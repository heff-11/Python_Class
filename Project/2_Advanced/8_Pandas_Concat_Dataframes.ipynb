{
 "cells": [
  {
   "cell_type": "code",
   "execution_count": 1,
   "id": "b09b306c",
   "metadata": {},
   "outputs": [
    {
     "name": "stderr",
     "output_type": "stream",
     "text": [
      "c:\\Users\\willh\\anaconda3\\envs\\python_project\\Lib\\site-packages\\tqdm\\auto.py:21: TqdmWarning: IProgress not found. Please update jupyter and ipywidgets. See https://ipywidgets.readthedocs.io/en/stable/user_install.html\n",
      "  from .autonotebook import tqdm as notebook_tqdm\n"
     ]
    }
   ],
   "source": [
    "# Importing libraries\n",
    "import pandas as pd\n",
    "from datasets import load_dataset\n",
    "import matplotlib.pyplot as plt\n",
    "\n",
    "# Loading Data\n",
    "dataset = load_dataset('lukebarousse/data_jobs')\n",
    "df = dataset['train'].to_pandas()\n",
    "\n",
    "# Data Cleanup\n",
    "df['job_posted_date'] = pd.to_datetime(df['job_posted_date'])"
   ]
  },
  {
   "cell_type": "code",
   "execution_count": 3,
   "id": "39c36367",
   "metadata": {},
   "outputs": [],
   "source": [
    "# Creating new dataframes in order to use pd.concat() function\n",
    "\n",
    "    # First Step: Add column for month to separate postings by month\n",
    "df['job_posted_month'] = df['job_posted_date'].dt.strftime('%b') # '%b' is for 3 letter month name instead of capital '%B' which provides full month name\n"
   ]
  },
  {
   "cell_type": "code",
   "execution_count": null,
   "id": "1d061f05",
   "metadata": {},
   "outputs": [],
   "source": [
    "# Step 2: Create dictionary for key and value of new dataframes\n",
    "months = df['job_posted_month'].unique()\n",
    "\n",
    "dict_months = {month : df[df['job_posted_month'] == month] for month in months}\n",
    "\n",
    "# Running single key from dictionary to make sure it worked\n",
    "dict_months['Jan']"
   ]
  },
  {
   "cell_type": "code",
   "execution_count": 11,
   "id": "704c2282",
   "metadata": {},
   "outputs": [],
   "source": [
    "# Now we will concatenate certain months of data\n",
    "\n",
    "df_q1 = pd.concat([dict_months['Jan'], dict_months['Feb'], dict_months['Mar']], ignore_index=True)"
   ]
  },
  {
   "cell_type": "code",
   "execution_count": 13,
   "id": "5faecea7",
   "metadata": {},
   "outputs": [
    {
     "data": {
      "text/plain": [
       "<Axes: xlabel='job_posted_month'>"
      ]
     },
     "execution_count": 13,
     "metadata": {},
     "output_type": "execute_result"
    },
    {
     "data": {
      "image/png": "[encoded data removed]",
      "text/plain": [
       "<Figure size 640x480 with 1 Axes>"
      ]
     },
     "metadata": {},
     "output_type": "display_data"
    }
   ],
   "source": [
    "# Inspect it to see how it worked\n",
    "df_q1['job_posted_month'].value_counts().plot(kind='bar')"
   ]
  }
 ],
 "metadata": {
  "kernelspec": {
   "display_name": "python_project",
   "language": "python",
   "name": "python3"
  },
  "language_info": {
   "codemirror_mode": {
    "name": "ipython",
    "version": 3
   },
   "file_extension": ".py",
   "mimetype": "text/x-python",
   "name": "python",
   "nbconvert_exporter": "python",
   "pygments_lexer": "ipython3",
   "version": "3.13.5"
  }
 },
 "nbformat": 4,
 "nbformat_minor": 5
}
