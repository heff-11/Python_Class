{
 "cells": [
  {
   "cell_type": "code",
   "execution_count": 1,
   "id": "397b7ecd",
   "metadata": {},
   "outputs": [
    {
     "name": "stderr",
     "output_type": "stream",
     "text": [
      "c:\\Users\\willh\\anaconda3\\envs\\project1\\Lib\\site-packages\\tqdm\\auto.py:21: TqdmWarning: IProgress not found. Please update jupyter and ipywidgets. See https://ipywidgets.readthedocs.io/en/stable/user_install.html\n",
      "  from .autonotebook import tqdm as notebook_tqdm\n"
     ]
    }
   ],
   "source": [
    "# Importing libraries\n",
    "import pandas as pd\n",
    "from datasets import load_dataset\n",
    "import matplotlib.pyplot as plt\n",
    "\n",
    "# Loading Data\n",
    "dataset = load_dataset('lukebarousse/data_jobs')\n",
    "df = dataset['train'].to_pandas()\n",
    "\n",
    "# Data Cleanup\n",
    "df['job_posted_date'] = pd.to_datetime(df['job_posted_date'])"
   ]
  },
  {
   "cell_type": "code",
   "execution_count": 3,
   "id": "518327cd",
   "metadata": {},
   "outputs": [],
   "source": [
    "# Taken from section 8\n",
    "df['job_posted_month'] = df['job_posted_date'].dt.strftime('%b')\n",
    "\n",
    "months = df['job_posted_month'].unique()\n",
    "\n",
    "dict_months = {month : df[df['job_posted_month'] == month] for month in months}"
   ]
  },
  {
   "cell_type": "code",
   "execution_count": 4,
   "id": "1ede5828",
   "metadata": {},
   "outputs": [],
   "source": [
    "# Taken from section 8\n",
    "df_q1 = pd.concat([dict_months['Jan'], dict_months['Feb'], dict_months['Mar']], ignore_index=True)"
   ]
  },
  {
   "cell_type": "markdown",
   "id": "6bb0ef43",
   "metadata": {},
   "source": [
    "# To Clipboard \n"
   ]
  },
  {
   "cell_type": "code",
   "execution_count": 5,
   "id": "02c67dfb",
   "metadata": {},
   "outputs": [],
   "source": [
    "# This code function .to_clipboard() is effectively copy paste, shown in the markdown box below \n",
    "df_q1.head().to_clipboard(sep=',')"
   ]
  },
  {
   "cell_type": "markdown",
   "id": "e6705b5d",
   "metadata": {},
   "source": [
    ",job_title_short,job_title,job_location,job_via,job_schedule_type,job_work_from_home,search_location,job_posted_date,job_no_degree_mention,job_health_insurance,job_country,salary_rate,salary_year_avg,salary_hour_avg,company_name,job_skills,job_type_skills,job_posted_month\n",
    "0,Data Analyst,Data Analyst,\"Guadalajara, Jalisco, Mexico\",via BeBee México,Full-time,False,Mexico,2023-01-14 13:18:07,False,False,Mexico,,,,Hewlett Packard Enterprise,\"['r', 'python', 'sql', 'nosql', 'power bi', 'tableau']\",\"{'analyst_tools': ['power bi', 'tableau'], 'programming': ['r', 'python', 'sql', 'nosql']}\",Jan\n",
    "1,Data Scientist,Data Scientist,\"Zaventem, Belgium\",via BeBee Belgique,Full-time,False,Belgium,2023-01-31 13:53:38,False,False,Belgium,,,,Devoteam,\"['r', 'python', 'sql', 'pandas', 'numpy', 'scikit-learn', 'matplotlib', 'hadoop', 'spark']\",\"{'libraries': ['pandas', 'numpy', 'scikit-learn', 'matplotlib', 'hadoop', 'spark'], 'programming': ['r', 'python', 'sql']}\",Jan\n",
    "2,Data Engineer,Data Engineer,\"Fort Worth, TX\",via LinkedIn,Full-time,False,\"Texas, United States\",2023-01-25 13:24:01,False,False,United States,,,,Programmers.io,\"['sql', 'python']\",\"{'programming': ['sql', 'python']}\",Jan\n",
    "3,Data Engineer,Data Engineer,\"San Mateo, CA\",via LinkedIn,Full-time,False,\"California, United States\",2023-01-28 13:07:30,False,True,United States,,,,Verkada,\"['sql', 'python', 'aws', 'looker']\",\"{'analyst_tools': ['looker'], 'cloud': ['aws'], 'programming': ['sql', 'python']}\",Jan\n",
    "4,Data Scientist,Data Scientist,\"São Paulo, State of São Paulo, Brazil\",via BeBee,Full-time,False,Brazil,2023-01-03 23:02:27,False,False,Brazil,,,,Mars,\"['python', 'sql', 'azure']\",\"{'cloud': ['azure'], 'programming': ['python', 'sql']}\",Jan\n"
   ]
  },
  {
   "cell_type": "markdown",
   "id": "578d8751",
   "metadata": {},
   "source": [
    "# To CSV"
   ]
  },
  {
   "cell_type": "code",
   "execution_count": null,
   "id": "70f5ceb2",
   "metadata": {},
   "outputs": [],
   "source": [
    "# Must use the file extension .csv in name to truly save it as a csv\n",
    "df_q1.to_csv('9_quarter_1.csv')\n",
    "\n",
    "pd.read_csv('9_quarter_1.csv', index_col=0)"
   ]
  },
  {
   "cell_type": "markdown",
   "id": "4895e09d",
   "metadata": {},
   "source": [
    "# To Excel"
   ]
  },
  {
   "cell_type": "code",
   "execution_count": 7,
   "id": "8f0dd852",
   "metadata": {},
   "outputs": [],
   "source": [
    "# Saving to excel sheet\n",
    "    # Need to install openpyxl via control terminal and conda command at this point\n",
    "        # Make sure your environment is the correct one when you do the install\n",
    "df_q1.to_excel('9_quarter_1.xlsx')"
   ]
  },
  {
   "cell_type": "markdown",
   "id": "ddf0fce2",
   "metadata": {},
   "source": [
    "# To SQL\n",
    "\n",
    "### Go to ChatGPT according to video"
   ]
  },
  {
   "cell_type": "markdown",
   "id": "4edb500e",
   "metadata": {},
   "source": [
    "# To Parquet\n",
    "\n",
    "#### For purposes of working with very large datasets and being able to export and load them \n",
    "#### very quickly"
   ]
  },
  {
   "cell_type": "code",
   "execution_count": null,
   "id": "1acf5377",
   "metadata": {},
   "outputs": [],
   "source": [
    "\n",
    "# Very efficient file types\n",
    "\n",
    "df.to_parquet('jobs_data.parquet')"
   ]
  },
  {
   "cell_type": "markdown",
   "id": "08729213",
   "metadata": {},
   "source": [
    "# To Pickle\n",
    "\n",
    "#### For purposes of working with very large datasets and being able to export and load them \n",
    "#### very quickly"
   ]
  },
  {
   "cell_type": "code",
   "execution_count": null,
   "id": "6f10ba51",
   "metadata": {},
   "outputs": [],
   "source": [
    "# Very efficient file types\n",
    "\n",
    "df.to_pickle('job_data.pkl')"
   ]
  }
 ],
 "metadata": {
  "kernelspec": {
   "display_name": "project1",
   "language": "python",
   "name": "python3"
  },
  "language_info": {
   "codemirror_mode": {
    "name": "ipython",
    "version": 3
   },
   "file_extension": ".py",
   "mimetype": "text/x-python",
   "name": "python",
   "nbconvert_exporter": "python",
   "pygments_lexer": "ipython3",
   "version": "3.11.13"
  }
 },
 "nbformat": 4,
 "nbformat_minor": 5
}
