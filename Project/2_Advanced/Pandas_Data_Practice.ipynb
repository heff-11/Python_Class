{
 "cells": [
  {
   "cell_type": "code",
   "execution_count": 16,
   "id": "49ecfb90",
   "metadata": {},
   "outputs": [],
   "source": [
    "# Importing libraries\n",
    "import pandas as pd\n",
    "from datasets import load_dataset\n",
    "import matplotlib.pyplot as plt\n",
    "\n",
    "# Loading Data\n",
    "dataset = load_dataset('lukebarousse/data_jobs')\n",
    "df = dataset['train'].to_pandas()\n",
    "\n",
    "# Data Cleanup\n",
    "df['job_posted_date'] = pd.to_datetime(df['job_posted_date'])"
   ]
  },
  {
   "cell_type": "markdown",
   "id": "879ae297",
   "metadata": {},
   "source": [
    "# 1. Data Familiarization\n",
    "# Challenge 1.1: Load the dataset into a pandas DataFrame. Inspect the column names, data types, and null value counts. Summarize the number of unique values in each column.\n",
    "\n"
   ]
  },
  {
   "cell_type": "code",
   "execution_count": null,
   "id": "3246de66",
   "metadata": {},
   "outputs": [
    {
     "name": "stdout",
     "output_type": "stream",
     "text": [
      "<class 'pandas.core.frame.DataFrame'>\n",
      "RangeIndex: 785741 entries, 0 to 785740\n",
      "Data columns (total 17 columns):\n",
      " #   Column                 Non-Null Count   Dtype         \n",
      "---  ------                 --------------   -----         \n",
      " 0   job_title_short        785741 non-null  object        \n",
      " 1   job_title              785740 non-null  object        \n",
      " 2   job_location           784696 non-null  object        \n",
      " 3   job_via                785733 non-null  object        \n",
      " 4   job_schedule_type      773074 non-null  object        \n",
      " 5   job_work_from_home     785741 non-null  bool          \n",
      " 6   search_location        785741 non-null  object        \n",
      " 7   job_posted_date        785741 non-null  datetime64[ns]\n",
      " 8   job_no_degree_mention  785741 non-null  bool          \n",
      " 9   job_health_insurance   785741 non-null  bool          \n",
      " 10  job_country            785692 non-null  object        \n",
      " 11  salary_rate            33067 non-null   object        \n",
      " 12  salary_year_avg        22003 non-null   float64       \n",
      " 13  salary_hour_avg        10662 non-null   float64       \n",
      " 14  company_name           785723 non-null  object        \n",
      " 15  job_skills             668704 non-null  object        \n",
      " 16  job_type_skills        668704 non-null  object        \n",
      "dtypes: bool(3), datetime64[ns](1), float64(2), object(11)\n",
      "memory usage: 86.2+ MB\n"
     ]
    }
   ],
   "source": [
    "# MAKE PRINT STATEMENTS\n",
    "df.head()\n",
    "df.info()\n",
    "df.isna().sum()"
   ]
  },
  {
   "cell_type": "code",
   "execution_count": 10,
   "id": "8dc17df7",
   "metadata": {},
   "outputs": [
    {
     "data": {
      "text/plain": [
       "job_title_short              10\n",
       "job_title                234673\n",
       "job_location              17217\n",
       "job_via                    7903\n",
       "job_schedule_type            47\n",
       "job_work_from_home            2\n",
       "search_location             173\n",
       "job_posted_date          607192\n",
       "job_no_degree_mention         2\n",
       "job_health_insurance          2\n",
       "job_country                 160\n",
       "salary_rate                   5\n",
       "salary_year_avg            2702\n",
       "salary_hour_avg            1184\n",
       "company_name             139982\n",
       "job_skills               177562\n",
       "job_type_skills          177562\n",
       "dtype: int64"
      ]
     },
     "execution_count": 10,
     "metadata": {},
     "output_type": "execute_result"
    }
   ],
   "source": [
    "df.nunique()"
   ]
  },
  {
   "cell_type": "markdown",
   "id": "7ec16c4c",
   "metadata": {},
   "source": [
    "# Challenge 1.2: What are the top 5 most common job titles? Normalize similar titles where possible (e.g., \"Data Scientist\", \"Data scientist\", \"Data Scientist I\")."
   ]
  },
  {
   "cell_type": "code",
   "execution_count": 13,
   "id": "57095f78",
   "metadata": {},
   "outputs": [],
   "source": [
    "job_pivot_table = df.pivot_table(index='job_title_short', aggfunc='size')"
   ]
  },
  {
   "cell_type": "code",
   "execution_count": 21,
   "id": "a4fd5d9b",
   "metadata": {},
   "outputs": [
    {
     "data": {
      "text/plain": [
       "job_title_short\n",
       "Data Analyst         196075\n",
       "Data Engineer        186241\n",
       "Data Scientist       172286\n",
       "Business Analyst      49063\n",
       "Software Engineer     44929\n",
       "dtype: int64"
      ]
     },
     "execution_count": 21,
     "metadata": {},
     "output_type": "execute_result"
    }
   ],
   "source": [
    "sorted_jp = job_pivot_table.sort_values(ascending=False)\n",
    "\n",
    "sorted_jp.head(5)"
   ]
  },
  {
   "cell_type": "code",
   "execution_count": null,
   "id": "c60037ec",
   "metadata": {},
   "outputs": [
    {
     "data": {
      "text/plain": [
       "<function matplotlib.pyplot.show(close=None, block=None)>"
      ]
     },
     "execution_count": 23,
     "metadata": {},
     "output_type": "execute_result"
    },
    {
     "data": {
      "image/png": "[encoded data removed]",
      "text/plain": [
       "<Figure size 640x480 with 1 Axes>"
      ]
     },
     "metadata": {},
     "output_type": "display_data"
    }
   ],
   "source": [
    "# Create a visualization\n",
    "sorted_jp.head(5).plot(kind='bar')\n",
    "plt.title('Top 5 Jobs by Open Positions')\n",
    "plt.xlabel('') # Gets rid of unaltered index name\n",
    "plt.ylabel('# of Job Postings')\n",
    "plt.show"
   ]
  },
  {
   "cell_type": "markdown",
   "id": "d5e0083f",
   "metadata": {},
   "source": [
    "# 2. Location & Remote Work\n",
    "# Challenge 2.1: Determine the top 10 cities with the highest number of job postings.\n",
    "\n",
    "# Challenge 2.2: What percentage of jobs are fully remote? How does this vary by company or job title?\n",
    "\n",
    "# Challenge 2.3: Create a bar plot showing the distribution of remote, hybrid, and on-site roles."
   ]
  },
  {
   "cell_type": "code",
   "execution_count": null,
   "id": "7fc4def6",
   "metadata": {},
   "outputs": [],
   "source": []
  },
  {
   "cell_type": "markdown",
   "id": "9ee89d8e",
   "metadata": {},
   "source": [
    "# 3. Company Insights\n",
    "# Challenge 3.1: Identify the companies with the highest number of job listings.\n",
    "\n",
    "# Challenge 3.2: For companies with at least 10 job listings, calculate the average salary range (if available).\n",
    "\n",
    "# Challenge 3.3: Generate a box plot showing the salary distributions per company (only for those with enough listings and salary data).\n",
    "\n"
   ]
  },
  {
   "cell_type": "code",
   "execution_count": null,
   "id": "aadbce5a",
   "metadata": {},
   "outputs": [],
   "source": []
  },
  {
   "cell_type": "markdown",
   "id": "75abaa44",
   "metadata": {},
   "source": [
    "# 4. Salary Analysis\n",
    "# Challenge 4.1: Clean and standardize the salary column(s). Ensure numeric values and consistent units (e.g., annual USD).\n",
    "\n",
    "    # Challenge 4.2: Calculate:\n",
    "\n",
    "    # Mean, median, min, max salaries.\n",
    "\n",
    "    # Salary ranges per job title or industry (if available).\n",
    "\n",
    "    # Any outliers using IQR or Z-score method.\n",
    "\n",
    "# Challenge 4.3: Create histograms and KDE plots to visualize salary distributions. Do this overall and segmented by remote vs non-remote jobs."
   ]
  },
  {
   "cell_type": "code",
   "execution_count": null,
   "id": "8550b561",
   "metadata": {},
   "outputs": [],
   "source": []
  },
  {
   "cell_type": "markdown",
   "id": "1f5b44cc",
   "metadata": {},
   "source": [
    "# 5. Time Series / Posting Date\n",
    "    # Challenge 5.1: If posting dates are available, plot the number of job postings over time. Identify # trends or spikes.\n",
    "\n",
    "# Challenge 5.2: Calculate a 7-day rolling average of job postings."
   ]
  },
  {
   "cell_type": "code",
   "execution_count": null,
   "id": "3e57e0f2",
   "metadata": {},
   "outputs": [],
   "source": []
  },
  {
   "cell_type": "markdown",
   "id": "651feb6d",
   "metadata": {},
   "source": [
    "# 6. Skills Extraction & Demand\n",
    "# Challenge 6.1: If there's a column with job descriptions or required skills, extract the most common technical skills using keyword matching or NLP.\n",
    "\n",
    "# Challenge 6.2: Create a horizontal bar plot showing the top 15 most requested skills across all postings."
   ]
  },
  {
   "cell_type": "code",
   "execution_count": null,
   "id": "0aba9c8d",
   "metadata": {},
   "outputs": [],
   "source": []
  },
  {
   "cell_type": "markdown",
   "id": "9a527d21",
   "metadata": {},
   "source": [
    "# 7. Custom Analysis\n",
    "# Challenge 7.1: Design your own metric: \"Job Attractiveness Score\", incorporating salary (if available), remote availability, company reputation (based on listing frequency), and skill requirements.\n",
    "\n",
    "# Challenge 7.2: Rank the top 20 jobs by this score. Visualize them in a table or bar chart."
   ]
  },
  {
   "cell_type": "code",
   "execution_count": null,
   "id": "1a7b1f41",
   "metadata": {},
   "outputs": [],
   "source": []
  }
 ],
 "metadata": {
  "kernelspec": {
   "display_name": "python_project",
   "language": "python",
   "name": "python3"
  },
  "language_info": {
   "codemirror_mode": {
    "name": "ipython",
    "version": 3
   },
   "file_extension": ".py",
   "mimetype": "text/x-python",
   "name": "python",
   "nbconvert_exporter": "python",
   "pygments_lexer": "ipython3",
   "version": "3.13.5"
  }
 },
 "nbformat": 4,
 "nbformat_minor": 5
}
